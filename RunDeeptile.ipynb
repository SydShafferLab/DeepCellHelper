{
  "cells": [
    {
      "cell_type": "code",
      "execution_count": null,
      "metadata": {
        "colab": {
          "base_uri": "https://localhost:8080/"
        },
        "id": "lNjjSaqVlToO",
        "outputId": "e44ba3b6-e27f-49d7-a644-eb6775b68c03"
      },
      "outputs": [
        {
          "output_type": "stream",
          "name": "stdout",
          "text": [
            "Looking in indexes: https://pypi.org/simple, https://us-python.pkg.dev/colab-wheels/public/simple/\n",
            "Collecting dask-image\n",
            "  Downloading dask-image-2021.12.0.tar.gz (82 kB)\n",
            "\u001b[K     |████████████████████████████████| 82 kB 794 kB/s \n",
            "\u001b[?25hRequirement already satisfied: dask[array]>=0.16.1 in /usr/local/lib/python3.7/dist-packages (from dask-image) (2.12.0)\n",
            "Requirement already satisfied: numpy>=1.11.3 in /usr/local/lib/python3.7/dist-packages (from dask-image) (1.21.6)\n",
            "Requirement already satisfied: scipy>=0.19.1 in /usr/local/lib/python3.7/dist-packages (from dask-image) (1.7.3)\n",
            "Collecting pims>=0.4.1\n",
            "  Downloading PIMS-0.6.1.tar.gz (86 kB)\n",
            "\u001b[K     |████████████████████████████████| 86 kB 5.7 MB/s \n",
            "\u001b[?25hRequirement already satisfied: toolz>=0.7.3 in /usr/local/lib/python3.7/dist-packages (from dask[array]>=0.16.1->dask-image) (0.12.0)\n",
            "Requirement already satisfied: imageio in /usr/local/lib/python3.7/dist-packages (from pims>=0.4.1->dask-image) (2.9.0)\n",
            "Collecting slicerator>=0.9.8\n",
            "  Downloading slicerator-1.1.0-py3-none-any.whl (10 kB)\n",
            "Requirement already satisfied: pillow in /usr/local/lib/python3.7/dist-packages (from imageio->pims>=0.4.1->dask-image) (7.1.2)\n",
            "Building wheels for collected packages: dask-image, pims\n",
            "  Building wheel for dask-image (setup.py) ... \u001b[?25l\u001b[?25hdone\n",
            "  Created wheel for dask-image: filename=dask_image-2021.12.0-py2.py3-none-any.whl size=41037 sha256=f79b7802b019894eff9fc131a58825417b0b17d97b5898549f78ec0021c30dd0\n",
            "  Stored in directory: /root/.cache/pip/wheels/cf/76/0d/4fee9d7b0ebef879819c8dc020279bd9e1e73313eb30c10136\n",
            "  Building wheel for pims (setup.py) ... \u001b[?25l\u001b[?25hdone\n",
            "  Created wheel for pims: filename=PIMS-0.6.1-py3-none-any.whl size=82636 sha256=e8d10889ed50211c6584ba7bff6ed889e9b25786a0483a2a4eee41706d38a6ee\n",
            "  Stored in directory: /root/.cache/pip/wheels/8e/d5/a9/f702433436655b7a2bc7ff93efd742587dd5abd44f7e406917\n",
            "Successfully built dask-image pims\n",
            "Installing collected packages: slicerator, pims, dask-image\n",
            "Successfully installed dask-image-2021.12.0 pims-0.6.1 slicerator-1.1.0\n",
            "Looking in indexes: https://pypi.org/simple, https://us-python.pkg.dev/colab-wheels/public/simple/\n",
            "Collecting dask==2022.2.0\n",
            "  Downloading dask-2022.2.0-py3-none-any.whl (1.1 MB)\n",
            "\u001b[K     |████████████████████████████████| 1.1 MB 15.1 MB/s \n",
            "\u001b[?25hCollecting fsspec>=0.6.0\n",
            "  Downloading fsspec-2022.7.1-py3-none-any.whl (141 kB)\n",
            "\u001b[K     |████████████████████████████████| 141 kB 94.2 MB/s \n",
            "\u001b[?25hRequirement already satisfied: toolz>=0.8.2 in /usr/local/lib/python3.7/dist-packages (from dask==2022.2.0) (0.12.0)\n",
            "Collecting partd>=0.3.10\n",
            "  Downloading partd-1.3.0-py3-none-any.whl (18 kB)\n",
            "Requirement already satisfied: packaging>=20.0 in /usr/local/lib/python3.7/dist-packages (from dask==2022.2.0) (21.3)\n",
            "Collecting pyyaml>=5.3.1\n",
            "  Downloading PyYAML-6.0-cp37-cp37m-manylinux_2_5_x86_64.manylinux1_x86_64.manylinux_2_12_x86_64.manylinux2010_x86_64.whl (596 kB)\n",
            "\u001b[K     |████████████████████████████████| 596 kB 82.6 MB/s \n",
            "\u001b[?25hRequirement already satisfied: cloudpickle>=1.1.1 in /usr/local/lib/python3.7/dist-packages (from dask==2022.2.0) (1.3.0)\n",
            "Requirement already satisfied: pyparsing!=3.0.5,>=2.0.2 in /usr/local/lib/python3.7/dist-packages (from packaging>=20.0->dask==2022.2.0) (3.0.9)\n",
            "Collecting locket\n",
            "  Downloading locket-1.0.0-py2.py3-none-any.whl (4.4 kB)\n",
            "Installing collected packages: locket, pyyaml, partd, fsspec, dask\n",
            "  Attempting uninstall: pyyaml\n",
            "    Found existing installation: PyYAML 3.13\n",
            "    Uninstalling PyYAML-3.13:\n",
            "      Successfully uninstalled PyYAML-3.13\n",
            "  Attempting uninstall: dask\n",
            "    Found existing installation: dask 2.12.0\n",
            "    Uninstalling dask-2.12.0:\n",
            "      Successfully uninstalled dask-2.12.0\n",
            "Successfully installed dask-2022.2.0 fsspec-2022.7.1 locket-1.0.0 partd-1.3.0 pyyaml-6.0\n",
            "Looking in indexes: https://pypi.org/simple, https://us-python.pkg.dev/colab-wheels/public/simple/\n",
            "Collecting deepcell_toolbox\n",
            "  Downloading DeepCell_Toolbox-0.11.2.tar.gz (39 kB)\n",
            "  Installing build dependencies ... \u001b[?25l\u001b[?25hdone\n",
            "  Getting requirements to build wheel ... \u001b[?25l\u001b[?25hdone\n",
            "    Preparing wheel metadata ... \u001b[?25l\u001b[?25hdone\n",
            "Requirement already satisfied: scikit-learn in /usr/local/lib/python3.7/dist-packages (from deepcell_toolbox) (1.0.2)\n",
            "Requirement already satisfied: scikit-image>=0.15.0 in /usr/local/lib/python3.7/dist-packages (from deepcell_toolbox) (0.18.3)\n",
            "Requirement already satisfied: pandas in /usr/local/lib/python3.7/dist-packages (from deepcell_toolbox) (1.3.5)\n",
            "Requirement already satisfied: networkx>=2.1 in /usr/local/lib/python3.7/dist-packages (from deepcell_toolbox) (2.6.3)\n",
            "Requirement already satisfied: numpy>=1.16.6 in /usr/local/lib/python3.7/dist-packages (from deepcell_toolbox) (1.21.6)\n",
            "Requirement already satisfied: opencv-python-headless in /usr/local/lib/python3.7/dist-packages (from deepcell_toolbox) (4.6.0.66)\n",
            "Requirement already satisfied: tqdm in /usr/local/lib/python3.7/dist-packages (from deepcell_toolbox) (4.64.0)\n",
            "Requirement already satisfied: scipy>=1.3.0 in /usr/local/lib/python3.7/dist-packages (from deepcell_toolbox) (1.7.3)\n",
            "Requirement already satisfied: cython>=0.28.0 in /usr/local/lib/python3.7/dist-packages (from deepcell_toolbox) (0.29.32)\n",
            "Requirement already satisfied: PyWavelets>=1.1.1 in /usr/local/lib/python3.7/dist-packages (from scikit-image>=0.15.0->deepcell_toolbox) (1.3.0)\n",
            "Requirement already satisfied: tifffile>=2019.7.26 in /usr/local/lib/python3.7/dist-packages (from scikit-image>=0.15.0->deepcell_toolbox) (2021.11.2)\n",
            "Requirement already satisfied: matplotlib!=3.0.0,>=2.0.0 in /usr/local/lib/python3.7/dist-packages (from scikit-image>=0.15.0->deepcell_toolbox) (3.2.2)\n",
            "Requirement already satisfied: imageio>=2.3.0 in /usr/local/lib/python3.7/dist-packages (from scikit-image>=0.15.0->deepcell_toolbox) (2.9.0)\n",
            "Requirement already satisfied: pillow!=7.1.0,!=7.1.1,>=4.3.0 in /usr/local/lib/python3.7/dist-packages (from scikit-image>=0.15.0->deepcell_toolbox) (7.1.2)\n",
            "Requirement already satisfied: python-dateutil>=2.1 in /usr/local/lib/python3.7/dist-packages (from matplotlib!=3.0.0,>=2.0.0->scikit-image>=0.15.0->deepcell_toolbox) (2.8.2)\n",
            "Requirement already satisfied: cycler>=0.10 in /usr/local/lib/python3.7/dist-packages (from matplotlib!=3.0.0,>=2.0.0->scikit-image>=0.15.0->deepcell_toolbox) (0.11.0)\n",
            "Requirement already satisfied: pyparsing!=2.0.4,!=2.1.2,!=2.1.6,>=2.0.1 in /usr/local/lib/python3.7/dist-packages (from matplotlib!=3.0.0,>=2.0.0->scikit-image>=0.15.0->deepcell_toolbox) (3.0.9)\n",
            "Requirement already satisfied: kiwisolver>=1.0.1 in /usr/local/lib/python3.7/dist-packages (from matplotlib!=3.0.0,>=2.0.0->scikit-image>=0.15.0->deepcell_toolbox) (1.4.4)\n",
            "Requirement already satisfied: typing-extensions in /usr/local/lib/python3.7/dist-packages (from kiwisolver>=1.0.1->matplotlib!=3.0.0,>=2.0.0->scikit-image>=0.15.0->deepcell_toolbox) (4.1.1)\n",
            "Requirement already satisfied: six>=1.5 in /usr/local/lib/python3.7/dist-packages (from python-dateutil>=2.1->matplotlib!=3.0.0,>=2.0.0->scikit-image>=0.15.0->deepcell_toolbox) (1.15.0)\n",
            "Requirement already satisfied: pytz>=2017.3 in /usr/local/lib/python3.7/dist-packages (from pandas->deepcell_toolbox) (2022.2)\n",
            "Requirement already satisfied: joblib>=0.11 in /usr/local/lib/python3.7/dist-packages (from scikit-learn->deepcell_toolbox) (1.1.0)\n",
            "Requirement already satisfied: threadpoolctl>=2.0.0 in /usr/local/lib/python3.7/dist-packages (from scikit-learn->deepcell_toolbox) (3.1.0)\n",
            "Building wheels for collected packages: deepcell-toolbox\n",
            "  Building wheel for deepcell-toolbox (PEP 517) ... \u001b[?25l\u001b[?25hdone\n",
            "  Created wheel for deepcell-toolbox: filename=DeepCell_Toolbox-0.11.2-cp37-cp37m-linux_x86_64.whl size=125578 sha256=06c811bede95381abe8901b2c43a0dc749a368ed2f619ccbea5b509dffc70b5b\n",
            "  Stored in directory: /root/.cache/pip/wheels/d2/8e/64/1032d99e67d8122c5fe5dc7ad4a3583ffea3ec512185815fcc\n",
            "Successfully built deepcell-toolbox\n",
            "Installing collected packages: deepcell-toolbox\n",
            "Successfully installed deepcell-toolbox-0.11.2\n"
          ]
        }
      ],
      "source": [
        "!pip install dask-image\n",
        "!pip install dask==2022.2.0\n",
        "!pip install deepcell_toolbox"
      ]
    },
    {
      "cell_type": "code",
      "execution_count": null,
      "metadata": {
        "id": "qP6RNRonpmRk"
      },
      "outputs": [],
      "source": [
        "import sys\n",
        "import os\n",
        "import glob\n",
        "#change to folder containing packages\n",
        "sys.path.append('/content/drive/MyDrive/Colab/DeepCellHelper/packages')"
      ]
    },
    {
      "cell_type": "code",
      "execution_count": null,
      "metadata": {
        "id": "5vW9HceDx47D",
        "colab": {
          "base_uri": "https://localhost:8080/"
        },
        "outputId": "72c30602-14d5-4e80-bc0b-ab9d17dda419"
      },
      "outputs": [
        {
          "output_type": "stream",
          "name": "stdout",
          "text": [
            "['/content/drive/MyDrive/Guillaume_Shared/ModulatingPrimedCells/RawData/Microscopy/20220817_PI3KiTimingR4/DTPi3kiLate_DTPi3kiPre/20220817_153439_656__Plate000_Well1_ChannelDAPI_Seq0000.tif', '/content/drive/MyDrive/Guillaume_Shared/ModulatingPrimedCells/RawData/Microscopy/20220817_PI3KiTimingR4/DTPi3kiLate_DTPi3kiPre/20220817_153439_656__Plate000_Well2_ChannelDAPI_Seq0001.tif', '/content/drive/MyDrive/Guillaume_Shared/ModulatingPrimedCells/RawData/Microscopy/20220817_PI3KiTimingR4/DTPi3kiLate_DTPi3kiPre/20220817_153439_656__Plate000_Well3_ChannelDAPI_Seq0002.tif', '/content/drive/MyDrive/Guillaume_Shared/ModulatingPrimedCells/RawData/Microscopy/20220817_PI3KiTimingR4/DTPi3kiLate_DTPi3kiPre/20220817_153439_656__Plate000_Well4_ChannelDAPI_Seq0005.tif', '/content/drive/MyDrive/Guillaume_Shared/ModulatingPrimedCells/RawData/Microscopy/20220817_PI3KiTimingR4/DTPi3kiLate_DTPi3kiPre/20220817_153439_656__Plate000_Well5_ChannelDAPI_Seq0004.tif', '/content/drive/MyDrive/Guillaume_Shared/ModulatingPrimedCells/RawData/Microscopy/20220817_PI3KiTimingR4/DTPi3kiLate_DTPi3kiPre/20220817_153439_656__Plate000_Well6_ChannelDAPI_Seq0003.tif']\n"
          ]
        }
      ],
      "source": [
        "\n",
        "TIFS = glob.glob(\"/content/drive/MyDrive/Guillaume_Shared/ModulatingPrimedCells/RawData/Microscopy/20220817_PI3KiTimingR4/DTPi3kiLate_DTPi3kiPre/*.tif\",recursive=False)\n",
        "\n",
        "# which channel contains a nuclear stain to use for segmentation (number)\n",
        "NucleusChannel= 1\n",
        "\n",
        "# which channel contains a cytoplasmic stain to use for segmentation (number)\n",
        "CytoplasmChannel= 0\n",
        "\n",
        "#which objective did you use for these scans (note that if using something other than Shaffer Lab scope this will not work and you need to change the library in RunDeepCell function)\n",
        "objective = '10x_fast'\n",
        "\n",
        "#specify sample algorith you are using (tissue: deepcell_mesmer, TC nucleus:deepcell_nuclear, TC cytoplasm :deepcell_cytoplasm )\n",
        "\n",
        "algorithm = 'deepcell_mesmer'\n",
        "\n",
        "# specify what part of the cell you want to segment\n",
        "compartment = 'nuclear'\n",
        "\n",
        "# change tile size(default =10000)\n",
        "tileSize=10000\n",
        "\n",
        "# If your image contains the outline of a round well make this argument True if not say False (default False)\n",
        "Well = True\n",
        "\n",
        "# change to path of HelperFunction\n",
        "os.chdir('/content/drive/MyDrive/Colab/DeepCellHelper/packages/HelperFunction')\n",
        "\n",
        "\n",
        "## These are \"advanced settings\" should only be used if you understand them (changing these to bad values will cause the sesssion to crash)\n",
        "\n",
        "DeepCellBatch = 40\n",
        "\n",
        "DeepTileBatch = 1\n",
        "\n",
        "\n",
        "##SHOULD NOT NEED TO EDIT BELOW THIS LINE\n",
        "\n",
        "from DeepTileFunc import RunDeepTile\n",
        "\n",
        "print(TIFS)"
      ]
    },
    {
      "cell_type": "code",
      "execution_count": null,
      "metadata": {
        "id": "5-WqVWLsqPal",
        "colab": {
          "base_uri": "https://localhost:8080/"
        },
        "outputId": "bec08ec3-ac9f-400f-d4c2-9959b3a43460"
      },
      "outputs": [
        {
          "output_type": "stream",
          "name": "stdout",
          "text": [
            "channels = [0]\n"
          ]
        },
        {
          "output_type": "stream",
          "name": "stderr",
          "text": [
            "WARNING:tensorflow:No training configuration found in save file, so the model was *not* compiled. Compile it manually.\n",
            "WARNING:root:Found constant value array in batch 0 and channel 1. Normalizing as zeros.\n",
            "/usr/local/lib/python3.7/dist-packages/deepcell_toolbox/deep_watershed.py:108: UserWarning: h_maxima peak finding algorithm was selected, but the provided image is larger than 5k x 5k pixels.This will lead to slow prediction performance.\n",
            "  warnings.warn('h_maxima peak finding algorithm was selected, '\n",
            "WARNING:root:Found constant value array in batch 0 and channel 1. Normalizing as zeros.\n",
            "WARNING:root:Found constant value array in batch 0 and channel 1. Normalizing as zeros.\n",
            "WARNING:root:Found constant value array in batch 0 and channel 1. Normalizing as zeros.\n",
            "WARNING:root:Found constant value array in batch 0 and channel 1. Normalizing as zeros.\n",
            "WARNING:root:Found constant value array in batch 0 and channel 1. Normalizing as zeros.\n",
            "WARNING:root:Found constant value array in batch 0 and channel 1. Normalizing as zeros.\n",
            "WARNING:root:Found constant value array in batch 0 and channel 1. Normalizing as zeros.\n",
            "WARNING:root:Found constant value array in batch 0 and channel 1. Normalizing as zeros.\n"
          ]
        },
        {
          "output_type": "stream",
          "name": "stdout",
          "text": [
            "(8309, 8325)\n",
            "8325\n",
            "5550\n",
            "Mask Files can be found in this directory: /content/drive/MyDrive/Guillaume_Shared/ModulatingPrimedCells/RawData/Microscopy/20220817_PI3KiTimingR4/DTPi3kiLate_DTPi3kiPre/20220817_153439_656__Plate000_Well1_ChannelDAPI_Seq0000\n",
            "2291.3979279994965\n",
            "channels = [0]\n"
          ]
        },
        {
          "output_type": "stream",
          "name": "stderr",
          "text": [
            "WARNING:tensorflow:No training configuration found in save file, so the model was *not* compiled. Compile it manually.\n",
            "WARNING:root:Found constant value array in batch 0 and channel 1. Normalizing as zeros.\n",
            "WARNING:root:Found constant value array in batch 0 and channel 1. Normalizing as zeros.\n",
            "WARNING:root:Found constant value array in batch 0 and channel 1. Normalizing as zeros.\n",
            "WARNING:root:Found constant value array in batch 0 and channel 1. Normalizing as zeros.\n",
            "WARNING:root:Found constant value array in batch 0 and channel 1. Normalizing as zeros.\n",
            "WARNING:root:Found constant value array in batch 0 and channel 1. Normalizing as zeros.\n",
            "WARNING:root:Found constant value array in batch 0 and channel 1. Normalizing as zeros.\n",
            "WARNING:root:Found constant value array in batch 0 and channel 1. Normalizing as zeros.\n",
            "WARNING:root:Found constant value array in batch 0 and channel 1. Normalizing as zeros.\n"
          ]
        },
        {
          "output_type": "stream",
          "name": "stdout",
          "text": [
            "(8309, 8325)\n",
            "8325\n",
            "5550\n",
            "Mask Files can be found in this directory: /content/drive/MyDrive/Guillaume_Shared/ModulatingPrimedCells/RawData/Microscopy/20220817_PI3KiTimingR4/DTPi3kiLate_DTPi3kiPre/20220817_153439_656__Plate000_Well2_ChannelDAPI_Seq0001\n",
            "4006.4162771701813\n",
            "channels = [0]\n"
          ]
        },
        {
          "output_type": "stream",
          "name": "stderr",
          "text": [
            "WARNING:tensorflow:No training configuration found in save file, so the model was *not* compiled. Compile it manually.\n",
            "WARNING:root:Found constant value array in batch 0 and channel 1. Normalizing as zeros.\n",
            "WARNING:root:Found constant value array in batch 0 and channel 1. Normalizing as zeros.\n",
            "WARNING:root:Found constant value array in batch 0 and channel 1. Normalizing as zeros.\n",
            "WARNING:root:Found constant value array in batch 0 and channel 1. Normalizing as zeros.\n",
            "WARNING:root:Found constant value array in batch 0 and channel 1. Normalizing as zeros.\n",
            "WARNING:root:Found constant value array in batch 0 and channel 1. Normalizing as zeros.\n",
            "WARNING:root:Found constant value array in batch 0 and channel 1. Normalizing as zeros.\n",
            "WARNING:root:Found constant value array in batch 0 and channel 1. Normalizing as zeros.\n",
            "WARNING:root:Found constant value array in batch 0 and channel 1. Normalizing as zeros.\n"
          ]
        },
        {
          "output_type": "stream",
          "name": "stdout",
          "text": [
            "(8309, 8325)\n",
            "8325\n",
            "5550\n",
            "Mask Files can be found in this directory: /content/drive/MyDrive/Guillaume_Shared/ModulatingPrimedCells/RawData/Microscopy/20220817_PI3KiTimingR4/DTPi3kiLate_DTPi3kiPre/20220817_153439_656__Plate000_Well3_ChannelDAPI_Seq0002\n",
            "2172.373565673828\n",
            "channels = [0]\n"
          ]
        },
        {
          "output_type": "stream",
          "name": "stderr",
          "text": [
            "WARNING:tensorflow:No training configuration found in save file, so the model was *not* compiled. Compile it manually.\n",
            "WARNING:root:Found constant value array in batch 0 and channel 1. Normalizing as zeros.\n",
            "WARNING:root:Found constant value array in batch 0 and channel 1. Normalizing as zeros.\n",
            "WARNING:root:Found constant value array in batch 0 and channel 1. Normalizing as zeros.\n",
            "WARNING:root:Found constant value array in batch 0 and channel 1. Normalizing as zeros.\n",
            "WARNING:root:Found constant value array in batch 0 and channel 1. Normalizing as zeros.\n",
            "WARNING:root:Found constant value array in batch 0 and channel 1. Normalizing as zeros.\n",
            "WARNING:root:Found constant value array in batch 0 and channel 1. Normalizing as zeros.\n",
            "WARNING:root:Found constant value array in batch 0 and channel 1. Normalizing as zeros.\n",
            "WARNING:root:Found constant value array in batch 0 and channel 1. Normalizing as zeros.\n"
          ]
        },
        {
          "output_type": "stream",
          "name": "stdout",
          "text": [
            "(8309, 8325)\n",
            "8325\n",
            "5550\n",
            "Mask Files can be found in this directory: /content/drive/MyDrive/Guillaume_Shared/ModulatingPrimedCells/RawData/Microscopy/20220817_PI3KiTimingR4/DTPi3kiLate_DTPi3kiPre/20220817_153439_656__Plate000_Well4_ChannelDAPI_Seq0005\n",
            "2549.597896337509\n",
            "channels = [0]\n"
          ]
        },
        {
          "output_type": "stream",
          "name": "stderr",
          "text": [
            "WARNING:tensorflow:No training configuration found in save file, so the model was *not* compiled. Compile it manually.\n",
            "WARNING:root:Found constant value array in batch 0 and channel 1. Normalizing as zeros.\n",
            "WARNING:root:Found constant value array in batch 0 and channel 1. Normalizing as zeros.\n",
            "WARNING:root:Found constant value array in batch 0 and channel 1. Normalizing as zeros.\n",
            "WARNING:root:Found constant value array in batch 0 and channel 1. Normalizing as zeros.\n",
            "WARNING:root:Found constant value array in batch 0 and channel 1. Normalizing as zeros.\n",
            "WARNING:root:Found constant value array in batch 0 and channel 1. Normalizing as zeros.\n",
            "WARNING:root:Found constant value array in batch 0 and channel 1. Normalizing as zeros.\n",
            "WARNING:root:Found constant value array in batch 0 and channel 1. Normalizing as zeros.\n",
            "WARNING:root:Found constant value array in batch 0 and channel 1. Normalizing as zeros.\n"
          ]
        },
        {
          "output_type": "stream",
          "name": "stdout",
          "text": [
            "(8309, 8325)\n",
            "8325\n",
            "5550\n",
            "Mask Files can be found in this directory: /content/drive/MyDrive/Guillaume_Shared/ModulatingPrimedCells/RawData/Microscopy/20220817_PI3KiTimingR4/DTPi3kiLate_DTPi3kiPre/20220817_153439_656__Plate000_Well5_ChannelDAPI_Seq0004\n",
            "2190.992212295532\n",
            "channels = [0]\n"
          ]
        },
        {
          "output_type": "stream",
          "name": "stderr",
          "text": [
            "WARNING:tensorflow:No training configuration found in save file, so the model was *not* compiled. Compile it manually.\n",
            "WARNING:root:Found constant value array in batch 0 and channel 1. Normalizing as zeros.\n",
            "WARNING:root:Found constant value array in batch 0 and channel 1. Normalizing as zeros.\n",
            "WARNING:root:Found constant value array in batch 0 and channel 1. Normalizing as zeros.\n",
            "WARNING:root:Found constant value array in batch 0 and channel 1. Normalizing as zeros.\n",
            "WARNING:root:Found constant value array in batch 0 and channel 1. Normalizing as zeros.\n",
            "WARNING:root:Found constant value array in batch 0 and channel 1. Normalizing as zeros.\n",
            "WARNING:root:Found constant value array in batch 0 and channel 1. Normalizing as zeros.\n",
            "WARNING:root:Found constant value array in batch 0 and channel 1. Normalizing as zeros.\n",
            "WARNING:root:Found constant value array in batch 0 and channel 1. Normalizing as zeros.\n"
          ]
        },
        {
          "output_type": "stream",
          "name": "stdout",
          "text": [
            "(8309, 8325)\n",
            "8325\n",
            "5550\n",
            "Mask Files can be found in this directory: /content/drive/MyDrive/Guillaume_Shared/ModulatingPrimedCells/RawData/Microscopy/20220817_PI3KiTimingR4/DTPi3kiLate_DTPi3kiPre/20220817_153439_656__Plate000_Well6_ChannelDAPI_Seq0003\n",
            "2202.0992834568024\n"
          ]
        }
      ],
      "source": [
        "#run segementation\n",
        "for tif in TIFS:\n",
        "    RunDeepTile(tif,NucleusChannel,CytoplasmChannel,objective,algorithm,compartment,tileSize,Well,DeepCellBatch,DeepTileBatch)"
      ]
    },
    {
      "cell_type": "code",
      "execution_count": null,
      "metadata": {
        "id": "dwaIunfbkHqN"
      },
      "outputs": [],
      "source": [
        ""
      ]
    },
    {
      "cell_type": "code",
      "execution_count": null,
      "metadata": {
        "id": "xJniIjBBkipE"
      },
      "outputs": [],
      "source": [
        ""
      ]
    },
    {
      "cell_type": "code",
      "source": [
        ""
      ],
      "metadata": {
        "id": "PzKeaOCv5Rh2"
      },
      "execution_count": null,
      "outputs": []
    }
  ],
  "metadata": {
    "accelerator": "GPU",
    "colab": {
      "collapsed_sections": [],
      "machine_shape": "hm",
      "name": "RunDeeptile.ipynb",
      "provenance": []
    },
    "gpuClass": "standard",
    "kernelspec": {
      "display_name": "Python 3",
      "name": "python3"
    },
    "language_info": {
      "name": "python"
    }
  },
  "nbformat": 4,
  "nbformat_minor": 0
}
